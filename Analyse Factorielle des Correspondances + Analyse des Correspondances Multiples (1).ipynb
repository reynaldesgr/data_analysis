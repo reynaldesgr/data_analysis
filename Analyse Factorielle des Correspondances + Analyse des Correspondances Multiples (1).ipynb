{
 "cells": [
  {
   "cell_type": "markdown",
   "metadata": {},
   "source": [
    "## Analyse Factorielle des Correspondances"
   ]
  },
  {
   "cell_type": "markdown",
   "metadata": {},
   "source": [
    "* L'AFC est une méthode statistuqe utilisée pour **explorer la relation entre 2 variables qualitatives**.\n",
    "\n",
    "\n",
    "* **Principe** : représenter les fréquences des différentes modalités des deux variables dans un **tableau de contingence** + chercher les combinaisons linéaires de ces modalités qui expliquent le mieux l'association entre les 2 variables.\n",
    "\n",
    "\n",
    "* Ces combinaisons linéaires sont appelées axes factoriels et sont construits de manière à maximiser la variance expliquée par chaque axe."
   ]
  },
  {
   "cell_type": "markdown",
   "metadata": {},
   "source": [
    "### Tableau de Contingence"
   ]
  },
  {
   "cell_type": "markdown",
   "metadata": {},
   "source": [
    "Nous étudions deux variables qualitatives : la **couleur des voitures** (rouge, bleu, vert) et le **type de carburant** (essence, diesel, électrique).\n",
    "\n",
    "* Echantillon : 100 voitures"
   ]
  },
  {
   "cell_type": "code",
   "execution_count": 48,
   "metadata": {},
   "outputs": [
    {
     "name": "stdout",
     "output_type": "stream",
     "text": [
      "== Tableau de Contingence ==\n",
      "       Essence  Diesel  Electrique\n",
      "Rouge       20      30          10\n",
      "Bleu        15      25          30\n",
      "Vert         5      15          10\n"
     ]
    }
   ],
   "source": [
    "import pandas as pd\n",
    "\n",
    "# Tableau de contingence\n",
    "\n",
    "colors     = ['Rouge', 'Bleu', 'Vert']\n",
    "carburants = ['Essence', 'Diesel', 'Electrique']\n",
    "\n",
    "\n",
    "data = [[20, 30, 10], [15, 25, 30], [5, 15, 10]]\n",
    "\n",
    "tab  = pd.DataFrame(data, columns=carburants, index=colors)\n",
    "\n",
    "print(\"== Tableau de Contingence ==\")\n",
    "print(tab)\n",
    "\n"
   ]
  },
  {
   "cell_type": "markdown",
   "metadata": {},
   "source": [
    "### Réalisation de l'AFC (Analyse Factorielle des Correspondances)"
   ]
  },
  {
   "cell_type": "markdown",
   "metadata": {},
   "source": [
    "1. Création du tableau de contingence\n",
    "\n",
    "\n",
    "2. Analyse factorielle : ``FactorAnalysis``\n",
    "\n",
    "L'analyse factorielle **regroupe les variables en clusters qui ont des corrélations élevées entre elles**. Les factuers sont des CL des vairables observées qui maximisent leur variance expliquée.\n",
    "\n",
    "\n",
    "3. Création de deux composantes principales (``n_components = 2``)\n",
    "\n",
    "\n",
    "4. Ajustement du modèle aux données : ``fit()``\n",
    "\n",
    "\n",
    "5. Affichage des résultats\n",
    "\n"
   ]
  },
  {
   "cell_type": "code",
   "execution_count": 49,
   "metadata": {},
   "outputs": [
    {
     "name": "stdout",
     "output_type": "stream",
     "text": [
      "Composantes principales : \n",
      "[[-6.23609564e+00 -6.23609564e+00 -1.78174161e+00]\n",
      " [-1.31485696e-12 -1.31487294e-12  9.20403638e+00]]\n"
     ]
    }
   ],
   "source": [
    "from sklearn.decomposition import FactorAnalysis\n",
    "\n",
    "\n",
    "data = {'Essence': [20, 15, 5], 'Diesel': [30, 25, 15], 'Electrique': [10, 30, 10]}\n",
    "df = pd.DataFrame(data, index=['Rouge', 'Bleu', 'Vert'])\n",
    "\n",
    "# AFC\n",
    "model = FactorAnalysis(n_components=2)\n",
    "model.fit(df)\n",
    "\n",
    "# Affichage\n",
    "\n",
    "print(\"Composantes principales : \")\n",
    "print(model.components_)\n"
   ]
  },
  {
   "cell_type": "code",
   "execution_count": 50,
   "metadata": {},
   "outputs": [
    {
     "data": {
      "image/png": "[encoded data removed]",
      "text/plain": [
       "<Figure size 432x288 with 1 Axes>"
      ]
     },
     "metadata": {
      "needs_background": "light"
     },
     "output_type": "display_data"
    }
   ],
   "source": [
    "import matplotlib.pyplot as plt\n",
    "\n",
    "# Affichage graphique\n",
    "\n",
    "fig, ax = plt.subplots()\n",
    "ax.scatter(model.components_[0], model.components_[1])\n",
    "for i, txt in enumerate(carburants):\n",
    "    ax.annotate(txt, (model.components_[0,i], model.components_[1,i]))\n",
    "for i, txt in enumerate(colors):\n",
    "    ax.annotate(txt, (model.transform(tab)[i,0], model.transform(tab)[i,1]))\n",
    "    \n",
    "plt.xlabel(\"Composante principale 1\")\n",
    "plt.ylabel(\"Composante principale 2\")\n",
    "plt.title(\"AFC sur un tableau de contingence\")\n",
    "plt.show()"
   ]
  },
  {
   "cell_type": "markdown",
   "metadata": {},
   "source": [
    "* La première composante principale représente une opposition entre les voitures fonctionnant à l'essence et celles fonctionnant au diesel et à l'électricité\n",
    "\n",
    "\n",
    "* La deuxième composante principale représente une opposition entre les voitures diesel et électriques."
   ]
  },
  {
   "cell_type": "code",
   "execution_count": 53,
   "metadata": {},
   "outputs": [
    {
     "name": "stdout",
     "output_type": "stream",
     "text": [
      "[-1.42108547e-14  1.00000000e+02  1.50000000e+02]\n",
      "250.00000000000003\n",
      "Variance expliquée par chaque composante principale :\n",
      "[-5.68434189e-17  4.00000000e-01  6.00000000e-01]\n"
     ]
    }
   ],
   "source": [
    "import numpy as np\n",
    "\n",
    "# Matrice de données\n",
    "X = np.array([[20, 30, 10],\n",
    "              [15, 25, 30],\n",
    "              [5, 15, 10]])\n",
    "\n",
    "# Calcul de la matrice de covariance\n",
    "cov = np.cov(X.T)\n",
    "\n",
    "# Calcul des valeurs propres et vecteurs propres de la matrice de covariance\n",
    "eigenvalues, eigenvectors = np.linalg.eig(cov)\n",
    "\n",
    "print(eigenvalues)\n",
    "\n",
    "print(np.sum(eigenvalues))\n",
    "\n",
    "\n",
    "# Variance expliquée par chaque composante principale\n",
    "explained_variance_ratio = eigenvalues / np.sum(eigenvalues)\n",
    "\n",
    "print(\"Variance expliquée par chaque composante principale :\")\n",
    "print(explained_variance_ratio)"
   ]
  },
  {
   "cell_type": "markdown",
   "metadata": {},
   "source": [
    "La variance expliquée par une composante principale est égale à **sa valeur propre divisée par la somme des valeurs propres de toutes les composantes principales.** "
   ]
  },
  {
   "cell_type": "markdown",
   "metadata": {},
   "source": [
    "## Analyse des Correspondances Multiples (ACM)"
   ]
  },
  {
   "cell_type": "markdown",
   "metadata": {},
   "source": [
    "* l'ACM est utilisée pour explorer la structure d'un tableau de données contenant des variables qualitatives (+ de 2 e.g.)\n",
    "\n",
    "\n",
    "* **Principe** : trouver des relations entre les différentes modalités des variables qualitatives étudiées\n",
    "\n",
    "\n",
    "* l'ACM permet réduit la dimensionnalité du tableau de données en projetant les observations sur un espace de dimension réduite\n",
    "\n",
    "\n",
    "\n",
    "* **Etapes** : \n",
    "    1. Tableau de contingence (fréquence de chaque modalité pour chaque variable)\n",
    "    2. Calcul d'une matrice de similarité entre les variables en utilisant une messure de corrélation appropriée\n",
    "    3. Application d'une ACP"
   ]
  },
  {
   "cell_type": "markdown",
   "metadata": {},
   "source": [
    "### Exemple"
   ]
  },
  {
   "cell_type": "markdown",
   "metadata": {},
   "source": [
    "* **Jeu de données**: informations sur les passagers du Titanic, notamment leur sexe, leur âge, leur classe de voyage et leur survie.\n",
    "\n",
    "\n",
    "* **Objectif** : vérifier l'existence de relations entre les préférences musicales & les autres variables"
   ]
  },
  {
   "cell_type": "code",
   "execution_count": 75,
   "metadata": {},
   "outputs": [],
   "source": [
    "import pandas as pd\n",
    "\n",
    "titanic = pd.read_csv('https://web.stanford.edu/class/archive/cs/cs109/cs109.1166/stuff/titanic.csv')"
   ]
  },
  {
   "cell_type": "code",
   "execution_count": 83,
   "metadata": {},
   "outputs": [
    {
     "name": "stdout",
     "output_type": "stream",
     "text": [
      "        Sex   Age Pclass Survived\n",
      "0      male  22.0      3        0\n",
      "1    female  38.0      1        1\n",
      "2    female  26.0      3        1\n",
      "3    female  35.0      1        1\n",
      "4      male  35.0      3        0\n",
      "..      ...   ...    ...      ...\n",
      "882    male  27.0      2        0\n",
      "883  female  19.0      1        1\n",
      "884  female   7.0      3        0\n",
      "885    male  26.0      1        1\n",
      "886    male  32.0      3        0\n",
      "\n",
      "[887 rows x 4 columns]\n"
     ]
    }
   ],
   "source": [
    "# Sélectionner les variables catégorielles pour l'ACM\n",
    "X = titanic[['Sex', 'Age', 'Pclass', 'Survived']].dropna()\n",
    "\n",
    "# Transformer les variables en variables catégorielles\n",
    "X['Sex'] = X['Sex'].astype('category')\n",
    "X['Pclass'] = X['Pclass'].astype('category')\n",
    "X['Survived'] = X['Survived'].astype('category')\n",
    "\n",
    "print(X)"
   ]
  },
  {
   "cell_type": "code",
   "execution_count": 84,
   "metadata": {},
   "outputs": [
    {
     "name": "stdout",
     "output_type": "stream",
     "text": [
      "        Sex   Age Pclass Survived\n",
      "0      male  22.0      3        0\n",
      "1    female  38.0      1        1\n",
      "2    female  26.0      3        1\n",
      "3    female  35.0      1        1\n",
      "4      male  35.0      3        0\n",
      "..      ...   ...    ...      ...\n",
      "882    male  27.0      2        0\n",
      "883  female  19.0      1        1\n",
      "884  female   7.0      3        0\n",
      "885    male  26.0      1        1\n",
      "886    male  32.0      3        0\n",
      "\n",
      "[887 rows x 4 columns]\n"
     ]
    }
   ],
   "source": [
    "# Sélection des variables carégorielles pour l'ACM\n",
    "\n",
    "X = titanic[['Sex', 'Age', 'Pclass', 'Survived']].dropna()\n",
    "\n",
    "# Transformer les variables en variables catégorielles\n",
    "X['Sex']      = X['Sex'].astype('category')\n",
    "X['Pclass']   = X['Pclass'].astype('category')\n",
    "X['Survived'] = X['Survived'].astype('category')\n",
    "\n",
    "print(X)"
   ]
  },
  {
   "cell_type": "code",
   "execution_count": 86,
   "metadata": {},
   "outputs": [
    {
     "data": {
      "image/png": "[encoded data removed]",
      "text/plain": [
       "<Figure size 432x288 with 1 Axes>"
      ]
     },
     "metadata": {
      "needs_background": "light"
     },
     "output_type": "display_data"
    }
   ],
   "source": [
    "from sklearn.preprocessing import LabelEncoder\n",
    "from sklearn.preprocessing import OneHotEncoder\n",
    "from sklearn.compose import ColumnTransformer\n",
    "\n",
    "from sklearn.decomposition import PCA\n",
    "\n",
    "\n",
    "# ACM\n",
    "\n",
    "# Encodage des variables catégorielles\n",
    "\n",
    "ct = ColumnTransformer(transformers=[('encoder', OneHotEncoder(), [0,2,3])], remainder='passthrough')\n",
    "X = ct.fit_transform(X)\n",
    "\n",
    "\n",
    "# ACP\n",
    "\n",
    "pca = PCA(n_components = 2)\n",
    "XPCA = pca.fit_transform(X)\n",
    "\n",
    "\n",
    "# Affichage\n",
    "\n",
    "# Créer le cercle des corrélations\n",
    "corr_circle = plt.Circle((0, 0), 1, fill=False)\n",
    "\n",
    "# Afficher le graphique avec le cercle des corrélations\n",
    "fig, ax = plt.subplots()\n",
    "ax.add_artist(corr_circle)\n",
    "ax.set_xlim(-1, 1)\n",
    "ax.set_ylim(-1, 1)\n",
    "ax.set_aspect('equal', adjustable='box')\n",
    "ax.axhline(y=0, color='k')\n",
    "ax.axvline(x=0, color='k')\n",
    "\n",
    "# Ajouter les variables au graphique\n",
    "for i, var in enumerate(['Sex_female', 'Sex_male', 'Pclass_1', 'Pclass_2', 'Pclass_3', 'Age', 'Survived']):\n",
    "    ax.arrow(0, 0, pca.components_[0, i], pca.components_[1, i], head_width=0.05, head_length=0.1, fc='k', ec='k')\n",
    "    ax.annotate(var, (pca.components_[0, i], pca.components_[1, i]))\n",
    "\n",
    "plt.title('Cercle des corrélations')\n",
    "plt.show()"
   ]
  },
  {
   "cell_type": "code",
   "execution_count": null,
   "metadata": {},
   "outputs": [],
   "source": []
  }
 ],
 "metadata": {
  "kernelspec": {
   "display_name": "Python 3",
   "language": "python",
   "name": "python3"
  },
  "language_info": {
   "codemirror_mode": {
    "name": "ipython",
    "version": 3
   },
   "file_extension": ".py",
   "mimetype": "text/x-python",
   "name": "python",
   "nbconvert_exporter": "python",
   "pygments_lexer": "ipython3",
   "version": "3.7.6"
  }
 },
 "nbformat": 4,
 "nbformat_minor": 4
}
